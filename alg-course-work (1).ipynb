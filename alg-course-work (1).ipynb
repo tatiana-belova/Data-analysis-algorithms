{
 "cells": [
  {
   "cell_type": "code",
   "execution_count": 1,
   "metadata": {
    "_cell_guid": "b1076dfc-b9ad-4769-8c92-a6c4dae69d19",
    "_uuid": "8f2839f25d086af736a60e9eeb907d3b93b6e0e5",
    "execution": {
     "iopub.execute_input": "2021-09-13T09:31:34.282554Z",
     "iopub.status.busy": "2021-09-13T09:31:34.282252Z",
     "iopub.status.idle": "2021-09-13T09:31:34.294092Z",
     "shell.execute_reply": "2021-09-13T09:31:34.292896Z",
     "shell.execute_reply.started": "2021-09-13T09:31:34.282522Z"
    }
   },
   "outputs": [],
   "source": [
    "import numpy as np\n",
    "import pandas as pd "
   ]
  },
  {
   "cell_type": "code",
   "execution_count": 2,
   "metadata": {
    "execution": {
     "iopub.execute_input": "2021-09-13T09:31:34.296759Z",
     "iopub.status.busy": "2021-09-13T09:31:34.296409Z",
     "iopub.status.idle": "2021-09-13T09:31:35.325033Z",
     "shell.execute_reply": "2021-09-13T09:31:35.324178Z",
     "shell.execute_reply.started": "2021-09-13T09:31:34.296714Z"
    }
   },
   "outputs": [],
   "source": [
    "import sklearn\n",
    "from sklearn.model_selection import train_test_split\n",
    "import matplotlib.pyplot as plt\n",
    "import seaborn as sns\n",
    "from tqdm import tqdm"
   ]
  },
  {
   "cell_type": "code",
   "execution_count": 6,
   "metadata": {
    "execution": {
     "iopub.execute_input": "2021-09-13T09:31:35.327194Z",
     "iopub.status.busy": "2021-09-13T09:31:35.326830Z",
     "iopub.status.idle": "2021-09-13T09:31:35.394067Z",
     "shell.execute_reply": "2021-09-13T09:31:35.393199Z",
     "shell.execute_reply.started": "2021-09-13T09:31:35.327151Z"
    }
   },
   "outputs": [],
   "source": [
    "train_df = pd.read_csv(\"C:\\\\Users\\\\tanbe\\\\Desktop\\\\gb-classification-choose-tutors\\\\train.csv\")\n",
    "test_df = pd.read_csv(\"C:\\\\Users\\\\tanbe\\\\Desktop\\\\gb-classification-choose-tutors\\\\test.csv\")"
   ]
  },
  {
   "cell_type": "markdown",
   "metadata": {},
   "source": [
    "**Загрузка данных**\n",
    "\n",
    "Описание датасета:\n",
    "    \n",
    "id - идентификатор\n",
    "\n",
    "age - возраст репетитора\n",
    "\n",
    "years_of_experience - опыт\n",
    "\n",
    "lesson_price - стоимость одного урока\n",
    "\n",
    "qualification - квалификация\n",
    "\n",
    "physics - физика\n",
    "\n",
    "chemistry - химия\n",
    "\n",
    "biology - биология\n",
    "\n",
    "english - английский\n",
    "\n",
    "geography - география\n",
    "\n",
    "history - история\n",
    "\n",
    "mean_exam_points - средний балл за экзамен\n",
    "\n",
    "choose - целевая переменная (1 - подходит/0 - нет)"
   ]
  },
  {
   "cell_type": "code",
   "execution_count": 7,
   "metadata": {
    "execution": {
     "iopub.execute_input": "2021-09-13T09:31:35.396060Z",
     "iopub.status.busy": "2021-09-13T09:31:35.395773Z",
     "iopub.status.idle": "2021-09-13T09:31:35.425444Z",
     "shell.execute_reply": "2021-09-13T09:31:35.424589Z",
     "shell.execute_reply.started": "2021-09-13T09:31:35.396013Z"
    }
   },
   "outputs": [
    {
     "data": {
      "text/html": [
       "<div>\n",
       "<style scoped>\n",
       "    .dataframe tbody tr th:only-of-type {\n",
       "        vertical-align: middle;\n",
       "    }\n",
       "\n",
       "    .dataframe tbody tr th {\n",
       "        vertical-align: top;\n",
       "    }\n",
       "\n",
       "    .dataframe thead th {\n",
       "        text-align: right;\n",
       "    }\n",
       "</style>\n",
       "<table border=\"1\" class=\"dataframe\">\n",
       "  <thead>\n",
       "    <tr style=\"text-align: right;\">\n",
       "      <th></th>\n",
       "      <th>Id</th>\n",
       "      <th>age</th>\n",
       "      <th>years_of_experience</th>\n",
       "      <th>lesson_price</th>\n",
       "      <th>qualification</th>\n",
       "      <th>physics</th>\n",
       "      <th>chemistry</th>\n",
       "      <th>biology</th>\n",
       "      <th>english</th>\n",
       "      <th>geography</th>\n",
       "      <th>history</th>\n",
       "      <th>mean_exam_points</th>\n",
       "      <th>choose</th>\n",
       "    </tr>\n",
       "  </thead>\n",
       "  <tbody>\n",
       "    <tr>\n",
       "      <th>0</th>\n",
       "      <td>0</td>\n",
       "      <td>35.0</td>\n",
       "      <td>0.0</td>\n",
       "      <td>2150.0</td>\n",
       "      <td>2.0</td>\n",
       "      <td>0.0</td>\n",
       "      <td>0.0</td>\n",
       "      <td>0.0</td>\n",
       "      <td>0.0</td>\n",
       "      <td>0.0</td>\n",
       "      <td>0.0</td>\n",
       "      <td>74.0</td>\n",
       "      <td>0</td>\n",
       "    </tr>\n",
       "    <tr>\n",
       "      <th>1</th>\n",
       "      <td>1</td>\n",
       "      <td>52.0</td>\n",
       "      <td>2.0</td>\n",
       "      <td>1250.0</td>\n",
       "      <td>2.0</td>\n",
       "      <td>1.0</td>\n",
       "      <td>0.0</td>\n",
       "      <td>1.0</td>\n",
       "      <td>0.0</td>\n",
       "      <td>0.0</td>\n",
       "      <td>1.0</td>\n",
       "      <td>57.0</td>\n",
       "      <td>1</td>\n",
       "    </tr>\n",
       "    <tr>\n",
       "      <th>2</th>\n",
       "      <td>2</td>\n",
       "      <td>29.0</td>\n",
       "      <td>3.0</td>\n",
       "      <td>1750.0</td>\n",
       "      <td>1.0</td>\n",
       "      <td>1.0</td>\n",
       "      <td>0.0</td>\n",
       "      <td>0.0</td>\n",
       "      <td>0.0</td>\n",
       "      <td>0.0</td>\n",
       "      <td>0.0</td>\n",
       "      <td>66.0</td>\n",
       "      <td>0</td>\n",
       "    </tr>\n",
       "    <tr>\n",
       "      <th>3</th>\n",
       "      <td>3</td>\n",
       "      <td>33.0</td>\n",
       "      <td>3.0</td>\n",
       "      <td>1050.0</td>\n",
       "      <td>1.0</td>\n",
       "      <td>0.0</td>\n",
       "      <td>0.0</td>\n",
       "      <td>0.0</td>\n",
       "      <td>0.0</td>\n",
       "      <td>0.0</td>\n",
       "      <td>0.0</td>\n",
       "      <td>66.0</td>\n",
       "      <td>1</td>\n",
       "    </tr>\n",
       "    <tr>\n",
       "      <th>4</th>\n",
       "      <td>4</td>\n",
       "      <td>46.0</td>\n",
       "      <td>3.0</td>\n",
       "      <td>2250.0</td>\n",
       "      <td>2.0</td>\n",
       "      <td>1.0</td>\n",
       "      <td>0.0</td>\n",
       "      <td>0.0</td>\n",
       "      <td>0.0</td>\n",
       "      <td>0.0</td>\n",
       "      <td>0.0</td>\n",
       "      <td>73.0</td>\n",
       "      <td>0</td>\n",
       "    </tr>\n",
       "  </tbody>\n",
       "</table>\n",
       "</div>"
      ],
      "text/plain": [
       "   Id   age  years_of_experience  lesson_price  qualification  physics  \\\n",
       "0   0  35.0                  0.0        2150.0            2.0      0.0   \n",
       "1   1  52.0                  2.0        1250.0            2.0      1.0   \n",
       "2   2  29.0                  3.0        1750.0            1.0      1.0   \n",
       "3   3  33.0                  3.0        1050.0            1.0      0.0   \n",
       "4   4  46.0                  3.0        2250.0            2.0      1.0   \n",
       "\n",
       "   chemistry  biology  english  geography  history  mean_exam_points  choose  \n",
       "0        0.0      0.0      0.0        0.0      0.0              74.0       0  \n",
       "1        0.0      1.0      0.0        0.0      1.0              57.0       1  \n",
       "2        0.0      0.0      0.0        0.0      0.0              66.0       0  \n",
       "3        0.0      0.0      0.0        0.0      0.0              66.0       1  \n",
       "4        0.0      0.0      0.0        0.0      0.0              73.0       0  "
      ]
     },
     "execution_count": 7,
     "metadata": {},
     "output_type": "execute_result"
    }
   ],
   "source": [
    "train_df.head()"
   ]
  },
  {
   "cell_type": "markdown",
   "metadata": {},
   "source": [
    "**Обработка пропусков**"
   ]
  },
  {
   "cell_type": "code",
   "execution_count": 8,
   "metadata": {
    "execution": {
     "iopub.execute_input": "2021-09-13T09:31:35.427426Z",
     "iopub.status.busy": "2021-09-13T09:31:35.426589Z",
     "iopub.status.idle": "2021-09-13T09:31:35.436872Z",
     "shell.execute_reply": "2021-09-13T09:31:35.435885Z",
     "shell.execute_reply.started": "2021-09-13T09:31:35.427390Z"
    }
   },
   "outputs": [
    {
     "data": {
      "text/plain": [
       "Id                     0\n",
       "age                    0\n",
       "years_of_experience    0\n",
       "lesson_price           0\n",
       "qualification          0\n",
       "physics                0\n",
       "chemistry              0\n",
       "biology                0\n",
       "english                0\n",
       "geography              0\n",
       "history                0\n",
       "mean_exam_points       0\n",
       "choose                 0\n",
       "dtype: int64"
      ]
     },
     "execution_count": 8,
     "metadata": {},
     "output_type": "execute_result"
    }
   ],
   "source": [
    "train_df.isna().sum()"
   ]
  },
  {
   "cell_type": "markdown",
   "metadata": {},
   "source": [
    "Пропуски отсутствуют"
   ]
  },
  {
   "cell_type": "markdown",
   "metadata": {},
   "source": [
    "**Так как нам нужен репетитор по математике - нас не интересуют другие предметы, следовательно эти признаки можно удалить**"
   ]
  },
  {
   "cell_type": "code",
   "execution_count": 9,
   "metadata": {
    "execution": {
     "iopub.execute_input": "2021-09-13T09:31:35.438692Z",
     "iopub.status.busy": "2021-09-13T09:31:35.438414Z",
     "iopub.status.idle": "2021-09-13T09:31:35.460112Z",
     "shell.execute_reply": "2021-09-13T09:31:35.459410Z",
     "shell.execute_reply.started": "2021-09-13T09:31:35.438653Z"
    }
   },
   "outputs": [],
   "source": [
    "def drop_column(column_list, train_df, test_df):\n",
    "    for col in column_list:\n",
    "        train_df = train_df.drop([col], axis=1)\n",
    "        test_df = test_df.drop([col], axis=1)\n",
    "\n",
    "\n",
    "column_list = ['history', 'geography', 'english']   \n",
    "drop_column(column_list, train_df, test_df)"
   ]
  },
  {
   "cell_type": "markdown",
   "metadata": {},
   "source": [
    "**Разделим выборку на обучающую и тестовую в соотношении 75/25**"
   ]
  },
  {
   "cell_type": "code",
   "execution_count": 10,
   "metadata": {
    "execution": {
     "iopub.execute_input": "2021-09-13T09:31:35.461746Z",
     "iopub.status.busy": "2021-09-13T09:31:35.461163Z",
     "iopub.status.idle": "2021-09-13T09:31:35.472960Z",
     "shell.execute_reply": "2021-09-13T09:31:35.472092Z",
     "shell.execute_reply.started": "2021-09-13T09:31:35.461710Z"
    }
   },
   "outputs": [],
   "source": [
    "X_train, X_test, y_train, y_test = sklearn.model_selection.train_test_split(train_df.drop(['Id', 'choose'], axis=1),\n",
    "                                                                    train_df['choose'], test_size=0.25)"
   ]
  },
  {
   "cell_type": "markdown",
   "metadata": {},
   "source": [
    "**Преобразовываем pandas dataframe в numpy arrays**"
   ]
  },
  {
   "cell_type": "code",
   "execution_count": 11,
   "metadata": {
    "execution": {
     "iopub.execute_input": "2021-09-13T09:31:35.474826Z",
     "iopub.status.busy": "2021-09-13T09:31:35.474224Z",
     "iopub.status.idle": "2021-09-13T09:31:35.482210Z",
     "shell.execute_reply": "2021-09-13T09:31:35.481319Z",
     "shell.execute_reply.started": "2021-09-13T09:31:35.474791Z"
    }
   },
   "outputs": [],
   "source": [
    "X_train = X_train.to_numpy()\n",
    "X_test = X_test.to_numpy()\n",
    "y_train = y_train.to_numpy()\n",
    "y_test = y_test.to_numpy()"
   ]
  },
  {
   "cell_type": "code",
   "execution_count": 12,
   "metadata": {
    "execution": {
     "iopub.execute_input": "2021-09-13T09:31:35.484220Z",
     "iopub.status.busy": "2021-09-13T09:31:35.483749Z",
     "iopub.status.idle": "2021-09-13T09:31:35.493743Z",
     "shell.execute_reply": "2021-09-13T09:31:35.492904Z",
     "shell.execute_reply.started": "2021-09-13T09:31:35.484123Z"
    }
   },
   "outputs": [],
   "source": [
    "#Используем евклидову метрику. Реализуем функцию для ее подсчета.\n",
    "\n",
    "def e_metrics(x1, x2):\n",
    "\n",
    "    distance = np.sum(np.square(x1 - x2))\n",
    "\n",
    "    return np.sqrt(distance)"
   ]
  },
  {
   "cell_type": "code",
   "execution_count": 13,
   "metadata": {
    "execution": {
     "iopub.execute_input": "2021-09-13T09:31:35.497439Z",
     "iopub.status.busy": "2021-09-13T09:31:35.496943Z",
     "iopub.status.idle": "2021-09-13T09:31:35.507223Z",
     "shell.execute_reply": "2021-09-13T09:31:35.506173Z",
     "shell.execute_reply.started": "2021-09-13T09:31:35.497392Z"
    }
   },
   "outputs": [],
   "source": [
    "# Используем оптимизированный код KNN c нулём циклов\n",
    "def knn(x_train, y_train, x_test, k, weights=None):\n",
    "    \n",
    "    # расчет расстояний от классифицируемых объектов до\n",
    "    # объектов обучающей выборки\n",
    "    distances = np.sqrt(np.sum(np.square(x_test[:, np.newaxis] - x_train), axis=2))\n",
    "                \n",
    "    answers = []    \n",
    "    for distance in distances:\n",
    "        # Записываем в список значение расстояния и ответа на объекте обучающей выборки\n",
    "        test_distances = [(dist, label) for dist, label in zip(distance, y_train)]\n",
    "        # создаем словарь со всеми возможными классами\n",
    "        classes = {class_item: 0 for class_item in set(y_train)}\n",
    "        \n",
    "        # Сортируем список и среди первых k элементов подсчитаем частоту появления разных классов\n",
    "        for d in sorted(test_distances)[0:k]:\n",
    "            classes[d[1]] += 1\n",
    "\n",
    "        # Записываем в список ответов наиболее часто встречающийся класс\n",
    "        answers.append(sorted(classes, key=classes.get)[-1])\n",
    "        \n",
    "    return answers"
   ]
  },
  {
   "cell_type": "code",
   "execution_count": 14,
   "metadata": {
    "execution": {
     "iopub.execute_input": "2021-09-13T09:31:35.509027Z",
     "iopub.status.busy": "2021-09-13T09:31:35.508636Z",
     "iopub.status.idle": "2021-09-13T09:31:35.517808Z",
     "shell.execute_reply": "2021-09-13T09:31:35.516989Z",
     "shell.execute_reply.started": "2021-09-13T09:31:35.508949Z"
    }
   },
   "outputs": [],
   "source": [
    "# Функция для вычисления точности\n",
    "def accuracy(pred, y):\n",
    "    return (sum(pred == y) / len(y))"
   ]
  },
  {
   "cell_type": "markdown",
   "metadata": {},
   "source": [
    "**Методом подбора выяснилось, что лучшая точность получается при k=10**"
   ]
  },
  {
   "cell_type": "code",
   "execution_count": 15,
   "metadata": {
    "execution": {
     "iopub.execute_input": "2021-09-13T09:31:35.519718Z",
     "iopub.status.busy": "2021-09-13T09:31:35.519289Z",
     "iopub.status.idle": "2021-09-13T09:33:08.067020Z",
     "shell.execute_reply": "2021-09-13T09:33:08.065259Z",
     "shell.execute_reply.started": "2021-09-13T09:31:35.519673Z"
    }
   },
   "outputs": [
    {
     "name": "stdout",
     "output_type": "stream",
     "text": [
      "Wall time: 1min 27s\n",
      "Wall time: 26.2 s\n",
      "Точность алгоритма на трейне при k = 10: 0.901\n",
      "Точность алгоритма на тесте при k = 10: 0.882\n"
     ]
    }
   ],
   "source": [
    "k = 10\n",
    "\n",
    "%time y_pred_train = knn(X_train, y_train, X_train, k)\n",
    "%time y_pred = knn(X_train, y_train, X_test, k)\n",
    "\n",
    "print(f'Точность алгоритма на трейне при k = {k}: {accuracy(y_pred_train, y_train):.3f}')\n",
    "print(f'Точность алгоритма на тесте при k = {k}: {accuracy(y_pred, y_test):.3f}')"
   ]
  },
  {
   "cell_type": "code",
   "execution_count": 16,
   "metadata": {
    "execution": {
     "iopub.status.busy": "2021-09-13T09:33:08.068417Z",
     "iopub.status.idle": "2021-09-13T09:33:08.068761Z",
     "shell.execute_reply": "2021-09-13T09:33:08.068613Z",
     "shell.execute_reply.started": "2021-09-13T09:33:08.068597Z"
    }
   },
   "outputs": [],
   "source": [
    "X = train_df.drop(['Id', 'choose'], axis=1).to_numpy()\n",
    "y = train_df['choose'].to_numpy()\n",
    "test_np = test_df.drop(['Id'], axis=1).to_numpy()"
   ]
  },
  {
   "cell_type": "code",
   "execution_count": 17,
   "metadata": {
    "execution": {
     "iopub.status.busy": "2021-09-13T09:33:08.070613Z",
     "iopub.status.idle": "2021-09-13T09:33:08.070956Z",
     "shell.execute_reply": "2021-09-13T09:33:08.070798Z",
     "shell.execute_reply.started": "2021-09-13T09:33:08.070782Z"
    }
   },
   "outputs": [
    {
     "name": "stdout",
     "output_type": "stream",
     "text": [
      "Wall time: 3min 3s\n",
      "Точность алгоритма на трейне при k = 10: 0.866\n"
     ]
    }
   ],
   "source": [
    "k = 10\n",
    "\n",
    "%time y_pred_test = knn(X, y, test_np, k)\n",
    "\n",
    "print(f'Точность алгоритма на трейне при k = {k}: {accuracy(y_pred_test, y):.3f}')"
   ]
  },
  {
   "cell_type": "code",
   "execution_count": 19,
   "metadata": {},
   "outputs": [],
   "source": [
    "submission = pd.DataFrame({'Id': test_df['Id'], 'choose': y_pred_test})\n",
    "submission.to_csv(f\"C:\\\\Users\\\\tanbe\\\\Desktop\\\\gb-classification-choose-tutors\\\\sample_submission.csv\", index=False, encoding='utf-8')"
   ]
  }
 ],
 "metadata": {
  "kernelspec": {
   "display_name": "Python 3",
   "language": "python",
   "name": "python3"
  },
  "language_info": {
   "codemirror_mode": {
    "name": "ipython",
    "version": 3
   },
   "file_extension": ".py",
   "mimetype": "text/x-python",
   "name": "python",
   "nbconvert_exporter": "python",
   "pygments_lexer": "ipython3",
   "version": "3.9.1"
  }
 },
 "nbformat": 4,
 "nbformat_minor": 4
}
