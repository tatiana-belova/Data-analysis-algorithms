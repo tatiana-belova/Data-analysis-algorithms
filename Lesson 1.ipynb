{
 "cells": [
  {
   "cell_type": "markdown",
   "metadata": {},
   "source": [
    "### Урок 1. Алгоритм линейной регрессии. Градиентный спуск"
   ]
  },
  {
   "cell_type": "markdown",
   "metadata": {},
   "source": [
    "### Домашнее задание"
   ]
  },
  {
   "cell_type": "code",
   "execution_count": 148,
   "metadata": {},
   "outputs": [],
   "source": [
    "%matplotlib inline\n",
    "import numpy as np\n",
    "import matplotlib.pyplot as plt"
   ]
  },
  {
   "cell_type": "code",
   "execution_count": 149,
   "metadata": {},
   "outputs": [],
   "source": [
    "#из задачи про стаж репетиторов и баллы на ЕГЭ\n",
    "X = np.array([[ 1,  1],\n",
    "              [ 1,  1],\n",
    "              [ 1,  2],\n",
    "              [ 1,  5],\n",
    "              [ 1,  3],\n",
    "              [ 1,  0],\n",
    "              [ 1,  5],\n",
    "              [ 1, 10],\n",
    "              [ 1,  1],\n",
    "              [ 1,  2]])"
   ]
  },
  {
   "cell_type": "code",
   "execution_count": 150,
   "metadata": {},
   "outputs": [
    {
     "data": {
      "text/plain": [
       "(10, 2)"
      ]
     },
     "execution_count": 150,
     "metadata": {},
     "output_type": "execute_result"
    }
   ],
   "source": [
    "X.shape"
   ]
  },
  {
   "cell_type": "code",
   "execution_count": 151,
   "metadata": {},
   "outputs": [],
   "source": [
    "y = [45, 55, 50, 55, 60, 35, 75, 80, 50, 60]"
   ]
  },
  {
   "cell_type": "code",
   "execution_count": 152,
   "metadata": {},
   "outputs": [],
   "source": [
    "def calc_mae(y, y_pred):\n",
    "    err = np.mean(np.abs(y - y_pred))\n",
    "    return err\n",
    "\n",
    "def calc_mse(y, y_pred):\n",
    "    err = np.mean((y - y_pred)**2)\n",
    "    return err"
   ]
  },
  {
   "cell_type": "markdown",
   "metadata": {
    "colab_type": "text",
    "id": "huXrhXQsZTMt"
   },
   "source": [
    "### 1. Подберите скорость обучения (eta) и количество итераций"
   ]
  },
  {
   "cell_type": "code",
   "execution_count": 153,
   "metadata": {
    "colab": {
     "base_uri": "https://localhost:8080/",
     "height": 185
    },
    "colab_type": "code",
    "id": "IDB22MQKMYaJ",
    "outputId": "4c03219e-a57c-4583-f439-6699fd0619bb"
   },
   "outputs": [],
   "source": [
    "def gradient_descent(eta, n_iter):\n",
    "    n = X.shape[1]\n",
    "    W = np.array([1, 0.5])\n",
    "    print(f'Number of objects = {n} \\\n",
    "       \\nLearning rate = {eta} \\\n",
    "       \\nInitial weights = {W} \\n')\n",
    "\n",
    "    for i in range(n_iter):\n",
    "        y_pred = np.dot(X, W)\n",
    "        err = calc_mse(y, y_pred)\n",
    "        for k in range(W.shape[0]):\n",
    "            W[k] -= eta * (1/n * 2 * X[:, k] @ (y_pred - y))\n",
    "        if i % 10 == 0:\n",
    "            eta /= 1.1\n",
    "            print(f'Iteration #{i}: W_new = {W}, MSE = {round(err, 2)}')"
   ]
  },
  {
   "cell_type": "code",
   "execution_count": 154,
   "metadata": {},
   "outputs": [
    {
     "name": "stdout",
     "output_type": "stream",
     "text": [
      "Number of objects = 2        \n",
      "Learning rate = 0.1        \n",
      "Initial weights = [1.  0.5] \n",
      "\n",
      "Iteration #0: W_new = [ 55. 189.], MSE = 3047.75\n",
      "Iteration #10: W_new = [1.82976745e+13 1.00905598e+14], MSE = 8.256201376654762e+26\n",
      "Iteration #20: W_new = [3.67678895e+24 2.02762701e+25], MSE = 4.0882843116187105e+49\n",
      "Iteration #30: W_new = [2.64437460e+35 1.45828478e+36], MSE = 2.5971279572063716e+71\n",
      "Iteration #40: W_new = [6.75227340e+45 3.72365455e+46], MSE = 2.0830172958467625e+92\n",
      "Iteration #50: W_new = [6.06632820e+55 3.34537855e+56], MSE = 2.0719290321953815e+112\n",
      "Iteration #60: W_new = [1.89825428e+65 1.04682420e+66], MSE = 2.505193798283093e+131\n",
      "Iteration #70: W_new = [2.04550264e+74 1.12802678e+75], MSE = 3.600221359641905e+149\n",
      "Iteration #80: W_new = [7.49392692e+82 4.13265184e+83], MSE = 5.99591231186051e+166\n",
      "Iteration #90: W_new = [9.20063444e+90 5.07384435e+91], MSE = 1.124688187831833e+183\n"
     ]
    }
   ],
   "source": [
    "eta=1e-1 \n",
    "n_iter=100\n",
    "\n",
    "xy1 = gradient_descent(eta=eta, n_iter=n_iter)"
   ]
  },
  {
   "cell_type": "code",
   "execution_count": 155,
   "metadata": {},
   "outputs": [
    {
     "name": "stdout",
     "output_type": "stream",
     "text": [
      "Number of objects = 2        \n",
      "Learning rate = 0.01        \n",
      "Initial weights = [1.  0.5] \n",
      "\n",
      "Iteration #0: W_new = [ 6.4  19.35], MSE = 3047.75\n",
      "Iteration #10: W_new = [18.77319138  8.6270072 ], MSE = 398.58\n",
      "Iteration #20: W_new = [27.15289315  7.06014716], MSE = 207.1\n",
      "Iteration #30: W_new = [32.4241672   6.10426679], MSE = 124.63\n",
      "Iteration #40: W_new = [35.85213314  5.48265802], MSE = 86.53\n",
      "Iteration #50: W_new = [38.15155609  5.06569312], MSE = 67.79\n",
      "Iteration #60: W_new = [39.73790007  4.7780341 ], MSE = 58.04\n",
      "Iteration #70: W_new = [40.86051023  4.57446606], MSE = 52.69\n",
      "Iteration #80: W_new = [41.67349173  4.4270444 ], MSE = 49.62\n",
      "Iteration #90: W_new = [42.2746909  4.3180262], MSE = 47.78\n"
     ]
    }
   ],
   "source": [
    "eta=1e-2 \n",
    "n_iter=100\n",
    "\n",
    "xy1 = gradient_descent(eta=eta, n_iter=n_iter)"
   ]
  },
  {
   "cell_type": "code",
   "execution_count": 156,
   "metadata": {},
   "outputs": [
    {
     "name": "stdout",
     "output_type": "stream",
     "text": [
      "Number of objects = 2        \n",
      "Learning rate = 0.001        \n",
      "Initial weights = [1.  0.5] \n",
      "\n",
      "Iteration #0: W_new = [1.54  2.385], MSE = 3047.75\n",
      "Iteration #10: W_new = [4.59259286 9.51117298], MSE = 875.43\n",
      "Iteration #20: W_new = [ 6.30924967 10.4974107 ], MSE = 757.19\n",
      "Iteration #30: W_new = [ 7.66009887 10.51154395], MSE = 707.03\n",
      "Iteration #40: W_new = [ 8.8189058  10.36147111], MSE = 666.4\n",
      "Iteration #50: W_new = [ 9.83480137 10.19316428], MSE = 631.75\n",
      "Iteration #60: W_new = [10.73192539 10.03523492], MSE = 601.93\n",
      "Iteration #70: W_new = [11.52711486  9.89261853], MSE = 576.14\n",
      "Iteration #80: W_new = [12.23380578  9.76504901], MSE = 553.73\n",
      "Iteration #90: W_new = [12.86321242  9.65114656], MSE = 534.18\n"
     ]
    }
   ],
   "source": [
    "eta=1e-3 \n",
    "n_iter=100\n",
    "\n",
    "xy1 = gradient_descent(eta=eta, n_iter=n_iter)"
   ]
  },
  {
   "cell_type": "code",
   "execution_count": 157,
   "metadata": {},
   "outputs": [
    {
     "name": "stdout",
     "output_type": "stream",
     "text": [
      "Number of objects = 2        \n",
      "Learning rate = 0.0001        \n",
      "Initial weights = [1.  0.5] \n",
      "\n",
      "Iteration #0: W_new = [1.054  0.6885], MSE = 3047.75\n",
      "Iteration #10: W_new = [1.51756012 2.25361947], MSE = 2439.04\n",
      "Iteration #20: W_new = [1.90070677 3.46897648], MSE = 2032.1\n",
      "Iteration #30: W_new = [2.2216811  4.42601559], MSE = 1751.95\n",
      "Iteration #40: W_new = [2.49367461 5.18927839], MSE = 1553.83\n",
      "Iteration #50: W_new = [2.72642139 5.80507831], MSE = 1410.27\n",
      "Iteration #60: W_new = [2.92724165 6.30716244], MSE = 1303.92\n",
      "Iteration #70: W_new = [3.10173873 6.720474  ], MSE = 1223.53\n",
      "Iteration #80: W_new = [3.25427312 7.06369495], MSE = 1161.65\n",
      "Iteration #90: W_new = [3.38829036 7.35099148], MSE = 1113.21\n"
     ]
    }
   ],
   "source": [
    "eta=1e-4 \n",
    "n_iter=100\n",
    "\n",
    "xy1 = gradient_descent(eta=eta, n_iter=n_iter)"
   ]
  },
  {
   "cell_type": "code",
   "execution_count": 158,
   "metadata": {},
   "outputs": [
    {
     "name": "stdout",
     "output_type": "stream",
     "text": [
      "Number of objects = 2        \n",
      "Learning rate = 0.01        \n",
      "Initial weights = [1.  0.5] \n",
      "\n",
      "Iteration #0: W_new = [ 6.4  19.35], MSE = 3047.75\n",
      "Iteration #10: W_new = [18.77319138  8.6270072 ], MSE = 398.58\n",
      "Iteration #20: W_new = [27.15289315  7.06014716], MSE = 207.1\n",
      "Iteration #30: W_new = [32.4241672   6.10426679], MSE = 124.63\n",
      "Iteration #40: W_new = [35.85213314  5.48265802], MSE = 86.53\n",
      "Iteration #50: W_new = [38.15155609  5.06569312], MSE = 67.79\n",
      "Iteration #60: W_new = [39.73790007  4.7780341 ], MSE = 58.04\n",
      "Iteration #70: W_new = [40.86051023  4.57446606], MSE = 52.69\n",
      "Iteration #80: W_new = [41.67349173  4.4270444 ], MSE = 49.62\n",
      "Iteration #90: W_new = [42.2746909  4.3180262], MSE = 47.78\n",
      "Iteration #100: W_new = [42.727794    4.23586294], MSE = 46.63\n",
      "Iteration #110: W_new = [43.07521157  4.17286412], MSE = 45.89\n",
      "Iteration #120: W_new = [43.34578807  4.12379924], MSE = 45.4\n",
      "Iteration #130: W_new = [43.55952748  4.08504089], MSE = 45.06\n",
      "Iteration #140: W_new = [43.73055537  4.05402762], MSE = 44.82\n",
      "Iteration #150: W_new = [43.8690146   4.02892018], MSE = 44.65\n",
      "Iteration #160: W_new = [43.9823022   4.00837722], MSE = 44.53\n",
      "Iteration #170: W_new = [44.0758912   3.99140629], MSE = 44.44\n",
      "Iteration #180: W_new = [44.15388587  3.97726316], MSE = 44.36\n",
      "Iteration #190: W_new = [44.21940291  3.96538266], MSE = 44.31\n",
      "Iteration #200: W_new = [44.27483692  3.95533056], MSE = 44.26\n",
      "Iteration #210: W_new = [44.32204803  3.94676955], MSE = 44.23\n",
      "Iteration #220: W_new = [44.36249605  3.93943492], MSE = 44.2\n",
      "Iteration #230: W_new = [44.39733771  3.93311693], MSE = 44.18\n",
      "Iteration #240: W_new = [44.42749793  3.92764784], MSE = 44.16\n",
      "Iteration #250: W_new = [44.45372252  3.92289241], MSE = 44.14\n",
      "Iteration #260: W_new = [44.47661773  3.91874072], MSE = 44.13\n",
      "Iteration #270: W_new = [44.49668006  3.91510272], MSE = 44.12\n",
      "Iteration #280: W_new = [44.51431902  3.91190417], MSE = 44.11\n",
      "Iteration #290: W_new = [44.5298746  3.9090834], MSE = 44.1\n",
      "Iteration #300: W_new = [44.54363088  3.90658891], MSE = 44.1\n",
      "Iteration #310: W_new = [44.55582661  3.90437741], MSE = 44.09\n",
      "Iteration #320: W_new = [44.56666354  3.9024123 ], MSE = 44.09\n",
      "Iteration #330: W_new = [44.57631309  3.9006625 ], MSE = 44.08\n",
      "Iteration #340: W_new = [44.5849216   3.89910148], MSE = 44.08\n",
      "Iteration #350: W_new = [44.59261455  3.89770648], MSE = 44.07\n",
      "Iteration #360: W_new = [44.59950005  3.8964579 ], MSE = 44.07\n",
      "Iteration #370: W_new = [44.60567159  3.89533879], MSE = 44.07\n",
      "Iteration #380: W_new = [44.61121033  3.89433442], MSE = 44.06\n",
      "Iteration #390: W_new = [44.61618698  3.89343199], MSE = 44.06\n",
      "Iteration #400: W_new = [44.62066334  3.89262027], MSE = 44.06\n",
      "Iteration #410: W_new = [44.62469361  3.89188944], MSE = 44.06\n",
      "Iteration #420: W_new = [44.62832542  3.89123087], MSE = 44.06\n",
      "Iteration #430: W_new = [44.6316008   3.89063693], MSE = 44.06\n",
      "Iteration #440: W_new = [44.63455687  3.89010089], MSE = 44.06\n",
      "Iteration #450: W_new = [44.63722652  3.88961679], MSE = 44.05\n",
      "Iteration #460: W_new = [44.63963895  3.88917933], MSE = 44.05\n",
      "Iteration #470: W_new = [44.64182013  3.88878381], MSE = 44.05\n",
      "Iteration #480: W_new = [44.64379322  3.88842602], MSE = 44.05\n",
      "Iteration #490: W_new = [44.64557886  3.88810222], MSE = 44.05\n"
     ]
    }
   ],
   "source": [
    "eta=1e-2 \n",
    "n_iter=500\n",
    "\n",
    "xy1 = gradient_descent(eta=eta, n_iter=n_iter)"
   ]
  },
  {
   "cell_type": "code",
   "execution_count": 159,
   "metadata": {},
   "outputs": [
    {
     "name": "stdout",
     "output_type": "stream",
     "text": [
      "Number of objects = 2        \n",
      "Learning rate = 0.01        \n",
      "Initial weights = [1.  0.5] \n",
      "\n",
      "Iteration #0: W_new = [ 6.4  19.35], MSE = 3047.75\n",
      "Iteration #10: W_new = [18.77319138  8.6270072 ], MSE = 398.58\n",
      "Iteration #20: W_new = [27.15289315  7.06014716], MSE = 207.1\n",
      "Iteration #30: W_new = [32.4241672   6.10426679], MSE = 124.63\n",
      "Iteration #40: W_new = [35.85213314  5.48265802], MSE = 86.53\n",
      "Iteration #50: W_new = [38.15155609  5.06569312], MSE = 67.79\n",
      "Iteration #60: W_new = [39.73790007  4.7780341 ], MSE = 58.04\n",
      "Iteration #70: W_new = [40.86051023  4.57446606], MSE = 52.69\n",
      "Iteration #80: W_new = [41.67349173  4.4270444 ], MSE = 49.62\n",
      "Iteration #90: W_new = [42.2746909  4.3180262], MSE = 47.78\n",
      "Iteration #100: W_new = [42.727794    4.23586294], MSE = 46.63\n",
      "Iteration #110: W_new = [43.07521157  4.17286412], MSE = 45.89\n",
      "Iteration #120: W_new = [43.34578807  4.12379924], MSE = 45.4\n",
      "Iteration #130: W_new = [43.55952748  4.08504089], MSE = 45.06\n",
      "Iteration #140: W_new = [43.73055537  4.05402762], MSE = 44.82\n",
      "Iteration #150: W_new = [43.8690146   4.02892018], MSE = 44.65\n",
      "Iteration #160: W_new = [43.9823022   4.00837722], MSE = 44.53\n",
      "Iteration #170: W_new = [44.0758912   3.99140629], MSE = 44.44\n",
      "Iteration #180: W_new = [44.15388587  3.97726316], MSE = 44.36\n",
      "Iteration #190: W_new = [44.21940291  3.96538266], MSE = 44.31\n",
      "Iteration #200: W_new = [44.27483692  3.95533056], MSE = 44.26\n",
      "Iteration #210: W_new = [44.32204803  3.94676955], MSE = 44.23\n",
      "Iteration #220: W_new = [44.36249605  3.93943492], MSE = 44.2\n",
      "Iteration #230: W_new = [44.39733771  3.93311693], MSE = 44.18\n",
      "Iteration #240: W_new = [44.42749793  3.92764784], MSE = 44.16\n",
      "Iteration #250: W_new = [44.45372252  3.92289241], MSE = 44.14\n",
      "Iteration #260: W_new = [44.47661773  3.91874072], MSE = 44.13\n",
      "Iteration #270: W_new = [44.49668006  3.91510272], MSE = 44.12\n",
      "Iteration #280: W_new = [44.51431902  3.91190417], MSE = 44.11\n",
      "Iteration #290: W_new = [44.5298746  3.9090834], MSE = 44.1\n",
      "Iteration #300: W_new = [44.54363088  3.90658891], MSE = 44.1\n",
      "Iteration #310: W_new = [44.55582661  3.90437741], MSE = 44.09\n",
      "Iteration #320: W_new = [44.56666354  3.9024123 ], MSE = 44.09\n",
      "Iteration #330: W_new = [44.57631309  3.9006625 ], MSE = 44.08\n",
      "Iteration #340: W_new = [44.5849216   3.89910148], MSE = 44.08\n",
      "Iteration #350: W_new = [44.59261455  3.89770648], MSE = 44.07\n",
      "Iteration #360: W_new = [44.59950005  3.8964579 ], MSE = 44.07\n",
      "Iteration #370: W_new = [44.60567159  3.89533879], MSE = 44.07\n",
      "Iteration #380: W_new = [44.61121033  3.89433442], MSE = 44.06\n",
      "Iteration #390: W_new = [44.61618698  3.89343199], MSE = 44.06\n",
      "Iteration #400: W_new = [44.62066334  3.89262027], MSE = 44.06\n",
      "Iteration #410: W_new = [44.62469361  3.89188944], MSE = 44.06\n",
      "Iteration #420: W_new = [44.62832542  3.89123087], MSE = 44.06\n",
      "Iteration #430: W_new = [44.6316008   3.89063693], MSE = 44.06\n",
      "Iteration #440: W_new = [44.63455687  3.89010089], MSE = 44.06\n",
      "Iteration #450: W_new = [44.63722652  3.88961679], MSE = 44.05\n",
      "Iteration #460: W_new = [44.63963895  3.88917933], MSE = 44.05\n",
      "Iteration #470: W_new = [44.64182013  3.88878381], MSE = 44.05\n",
      "Iteration #480: W_new = [44.64379322  3.88842602], MSE = 44.05\n",
      "Iteration #490: W_new = [44.64557886  3.88810222], MSE = 44.05\n",
      "Iteration #500: W_new = [44.64719553  3.88780906], MSE = 44.05\n",
      "Iteration #510: W_new = [44.64865977  3.88754355], MSE = 44.05\n",
      "Iteration #520: W_new = [44.64998639  3.88730298], MSE = 44.05\n",
      "Iteration #530: W_new = [44.6511887   3.88708496], MSE = 44.05\n",
      "Iteration #540: W_new = [44.65227866  3.88688732], MSE = 44.05\n",
      "Iteration #550: W_new = [44.653267    3.88670809], MSE = 44.05\n",
      "Iteration #560: W_new = [44.65416343  3.88654554], MSE = 44.05\n",
      "Iteration #570: W_new = [44.65497665  3.88639808], MSE = 44.05\n",
      "Iteration #580: W_new = [44.65571452  3.88626427], MSE = 44.05\n",
      "Iteration #590: W_new = [44.65638416  3.88614285], MSE = 44.05\n",
      "Iteration #600: W_new = [44.65699195  3.88603263], MSE = 44.05\n",
      "Iteration #610: W_new = [44.6575437   3.88593258], MSE = 44.05\n",
      "Iteration #620: W_new = [44.65804463  3.88584174], MSE = 44.05\n",
      "Iteration #630: W_new = [44.65849949  3.88575926], MSE = 44.05\n",
      "Iteration #640: W_new = [44.65891255  3.88568436], MSE = 44.05\n",
      "Iteration #650: W_new = [44.65928769  3.88561634], MSE = 44.05\n",
      "Iteration #660: W_new = [44.65962842  3.88555455], MSE = 44.05\n",
      "Iteration #670: W_new = [44.65993792  3.88549843], MSE = 44.05\n",
      "Iteration #680: W_new = [44.66021908  3.88544744], MSE = 44.04\n",
      "Iteration #690: W_new = [44.66047451  3.88540112], MSE = 44.04\n",
      "Iteration #700: W_new = [44.66070658  3.88535904], MSE = 44.04\n",
      "Iteration #710: W_new = [44.66091743  3.88532081], MSE = 44.04\n",
      "Iteration #720: W_new = [44.66110902  3.88528606], MSE = 44.04\n",
      "Iteration #730: W_new = [44.66128311  3.8852545 ], MSE = 44.04\n",
      "Iteration #740: W_new = [44.66144131  3.88522581], MSE = 44.04\n",
      "Iteration #750: W_new = [44.66158508  3.88519974], MSE = 44.04\n",
      "Iteration #760: W_new = [44.66171573  3.88517605], MSE = 44.04\n",
      "Iteration #770: W_new = [44.66183446  3.88515452], MSE = 44.04\n",
      "Iteration #780: W_new = [44.66194237  3.88513495], MSE = 44.04\n",
      "Iteration #790: W_new = [44.66204045  3.88511717], MSE = 44.04\n",
      "Iteration #800: W_new = [44.66212958  3.885101  ], MSE = 44.04\n",
      "Iteration #810: W_new = [44.6622106   3.88508631], MSE = 44.04\n",
      "Iteration #820: W_new = [44.66228424  3.88507296], MSE = 44.04\n",
      "Iteration #830: W_new = [44.66235117  3.88506082], MSE = 44.04\n",
      "Iteration #840: W_new = [44.66241201  3.88504979], MSE = 44.04\n",
      "Iteration #850: W_new = [44.6624673   3.88503976], MSE = 44.04\n",
      "Iteration #860: W_new = [44.66251757  3.88503065], MSE = 44.04\n",
      "Iteration #870: W_new = [44.66256326  3.88502236], MSE = 44.04\n",
      "Iteration #880: W_new = [44.66260479  3.88501483], MSE = 44.04\n",
      "Iteration #890: W_new = [44.66264254  3.88500799], MSE = 44.04\n",
      "Iteration #900: W_new = [44.66267686  3.88500176], MSE = 44.04\n",
      "Iteration #910: W_new = [44.66270805  3.88499611], MSE = 44.04\n",
      "Iteration #920: W_new = [44.66273641  3.88499096], MSE = 44.04\n",
      "Iteration #930: W_new = [44.66276219  3.88498629], MSE = 44.04\n",
      "Iteration #940: W_new = [44.66278562  3.88498204], MSE = 44.04\n",
      "Iteration #950: W_new = [44.66280692  3.88497818], MSE = 44.04\n",
      "Iteration #960: W_new = [44.66282628  3.88497467], MSE = 44.04\n",
      "Iteration #970: W_new = [44.66284389  3.88497147], MSE = 44.04\n",
      "Iteration #980: W_new = [44.66285989  3.88496857], MSE = 44.04\n",
      "Iteration #990: W_new = [44.66287443  3.88496594], MSE = 44.04\n"
     ]
    }
   ],
   "source": [
    "eta=1e-2 \n",
    "n_iter=1000\n",
    "\n",
    "xy1 = gradient_descent(eta=eta, n_iter=n_iter)"
   ]
  },
  {
   "cell_type": "code",
   "execution_count": 160,
   "metadata": {},
   "outputs": [
    {
     "name": "stdout",
     "output_type": "stream",
     "text": [
      "Number of objects = 2        \n",
      "Learning rate = 0.01        \n",
      "Initial weights = [1.  0.5] \n",
      "\n",
      "Iteration #0: W_new = [ 6.4  19.35], MSE = 3047.75\n",
      "Iteration #10: W_new = [18.77319138  8.6270072 ], MSE = 398.58\n",
      "Iteration #20: W_new = [27.15289315  7.06014716], MSE = 207.1\n",
      "Iteration #30: W_new = [32.4241672   6.10426679], MSE = 124.63\n",
      "Iteration #40: W_new = [35.85213314  5.48265802], MSE = 86.53\n",
      "Iteration #50: W_new = [38.15155609  5.06569312], MSE = 67.79\n",
      "Iteration #60: W_new = [39.73790007  4.7780341 ], MSE = 58.04\n",
      "Iteration #70: W_new = [40.86051023  4.57446606], MSE = 52.69\n",
      "Iteration #80: W_new = [41.67349173  4.4270444 ], MSE = 49.62\n",
      "Iteration #90: W_new = [42.2746909  4.3180262], MSE = 47.78\n",
      "Iteration #100: W_new = [42.727794    4.23586294], MSE = 46.63\n",
      "Iteration #110: W_new = [43.07521157  4.17286412], MSE = 45.89\n",
      "Iteration #120: W_new = [43.34578807  4.12379924], MSE = 45.4\n",
      "Iteration #130: W_new = [43.55952748  4.08504089], MSE = 45.06\n",
      "Iteration #140: W_new = [43.73055537  4.05402762], MSE = 44.82\n",
      "Iteration #150: W_new = [43.8690146   4.02892018], MSE = 44.65\n",
      "Iteration #160: W_new = [43.9823022   4.00837722], MSE = 44.53\n",
      "Iteration #170: W_new = [44.0758912   3.99140629], MSE = 44.44\n",
      "Iteration #180: W_new = [44.15388587  3.97726316], MSE = 44.36\n",
      "Iteration #190: W_new = [44.21940291  3.96538266], MSE = 44.31\n",
      "Iteration #200: W_new = [44.27483692  3.95533056], MSE = 44.26\n",
      "Iteration #210: W_new = [44.32204803  3.94676955], MSE = 44.23\n",
      "Iteration #220: W_new = [44.36249605  3.93943492], MSE = 44.2\n",
      "Iteration #230: W_new = [44.39733771  3.93311693], MSE = 44.18\n",
      "Iteration #240: W_new = [44.42749793  3.92764784], MSE = 44.16\n",
      "Iteration #250: W_new = [44.45372252  3.92289241], MSE = 44.14\n",
      "Iteration #260: W_new = [44.47661773  3.91874072], MSE = 44.13\n",
      "Iteration #270: W_new = [44.49668006  3.91510272], MSE = 44.12\n",
      "Iteration #280: W_new = [44.51431902  3.91190417], MSE = 44.11\n",
      "Iteration #290: W_new = [44.5298746  3.9090834], MSE = 44.1\n",
      "Iteration #300: W_new = [44.54363088  3.90658891], MSE = 44.1\n",
      "Iteration #310: W_new = [44.55582661  3.90437741], MSE = 44.09\n",
      "Iteration #320: W_new = [44.56666354  3.9024123 ], MSE = 44.09\n",
      "Iteration #330: W_new = [44.57631309  3.9006625 ], MSE = 44.08\n",
      "Iteration #340: W_new = [44.5849216   3.89910148], MSE = 44.08\n",
      "Iteration #350: W_new = [44.59261455  3.89770648], MSE = 44.07\n",
      "Iteration #360: W_new = [44.59950005  3.8964579 ], MSE = 44.07\n",
      "Iteration #370: W_new = [44.60567159  3.89533879], MSE = 44.07\n",
      "Iteration #380: W_new = [44.61121033  3.89433442], MSE = 44.06\n",
      "Iteration #390: W_new = [44.61618698  3.89343199], MSE = 44.06\n",
      "Iteration #400: W_new = [44.62066334  3.89262027], MSE = 44.06\n",
      "Iteration #410: W_new = [44.62469361  3.89188944], MSE = 44.06\n",
      "Iteration #420: W_new = [44.62832542  3.89123087], MSE = 44.06\n",
      "Iteration #430: W_new = [44.6316008   3.89063693], MSE = 44.06\n",
      "Iteration #440: W_new = [44.63455687  3.89010089], MSE = 44.06\n",
      "Iteration #450: W_new = [44.63722652  3.88961679], MSE = 44.05\n",
      "Iteration #460: W_new = [44.63963895  3.88917933], MSE = 44.05\n",
      "Iteration #470: W_new = [44.64182013  3.88878381], MSE = 44.05\n",
      "Iteration #480: W_new = [44.64379322  3.88842602], MSE = 44.05\n",
      "Iteration #490: W_new = [44.64557886  3.88810222], MSE = 44.05\n",
      "Iteration #500: W_new = [44.64719553  3.88780906], MSE = 44.05\n",
      "Iteration #510: W_new = [44.64865977  3.88754355], MSE = 44.05\n",
      "Iteration #520: W_new = [44.64998639  3.88730298], MSE = 44.05\n",
      "Iteration #530: W_new = [44.6511887   3.88708496], MSE = 44.05\n",
      "Iteration #540: W_new = [44.65227866  3.88688732], MSE = 44.05\n",
      "Iteration #550: W_new = [44.653267    3.88670809], MSE = 44.05\n",
      "Iteration #560: W_new = [44.65416343  3.88654554], MSE = 44.05\n",
      "Iteration #570: W_new = [44.65497665  3.88639808], MSE = 44.05\n",
      "Iteration #580: W_new = [44.65571452  3.88626427], MSE = 44.05\n",
      "Iteration #590: W_new = [44.65638416  3.88614285], MSE = 44.05\n",
      "Iteration #600: W_new = [44.65699195  3.88603263], MSE = 44.05\n",
      "Iteration #610: W_new = [44.6575437   3.88593258], MSE = 44.05\n",
      "Iteration #620: W_new = [44.65804463  3.88584174], MSE = 44.05\n",
      "Iteration #630: W_new = [44.65849949  3.88575926], MSE = 44.05\n",
      "Iteration #640: W_new = [44.65891255  3.88568436], MSE = 44.05\n",
      "Iteration #650: W_new = [44.65928769  3.88561634], MSE = 44.05\n",
      "Iteration #660: W_new = [44.65962842  3.88555455], MSE = 44.05\n",
      "Iteration #670: W_new = [44.65993792  3.88549843], MSE = 44.05\n",
      "Iteration #680: W_new = [44.66021908  3.88544744], MSE = 44.04\n",
      "Iteration #690: W_new = [44.66047451  3.88540112], MSE = 44.04\n",
      "Iteration #700: W_new = [44.66070658  3.88535904], MSE = 44.04\n",
      "Iteration #710: W_new = [44.66091743  3.88532081], MSE = 44.04\n",
      "Iteration #720: W_new = [44.66110902  3.88528606], MSE = 44.04\n",
      "Iteration #730: W_new = [44.66128311  3.8852545 ], MSE = 44.04\n",
      "Iteration #740: W_new = [44.66144131  3.88522581], MSE = 44.04\n",
      "Iteration #750: W_new = [44.66158508  3.88519974], MSE = 44.04\n",
      "Iteration #760: W_new = [44.66171573  3.88517605], MSE = 44.04\n",
      "Iteration #770: W_new = [44.66183446  3.88515452], MSE = 44.04\n",
      "Iteration #780: W_new = [44.66194237  3.88513495], MSE = 44.04\n",
      "Iteration #790: W_new = [44.66204045  3.88511717], MSE = 44.04\n",
      "Iteration #800: W_new = [44.66212958  3.885101  ], MSE = 44.04\n",
      "Iteration #810: W_new = [44.6622106   3.88508631], MSE = 44.04\n",
      "Iteration #820: W_new = [44.66228424  3.88507296], MSE = 44.04\n",
      "Iteration #830: W_new = [44.66235117  3.88506082], MSE = 44.04\n",
      "Iteration #840: W_new = [44.66241201  3.88504979], MSE = 44.04\n",
      "Iteration #850: W_new = [44.6624673   3.88503976], MSE = 44.04\n",
      "Iteration #860: W_new = [44.66251757  3.88503065], MSE = 44.04\n",
      "Iteration #870: W_new = [44.66256326  3.88502236], MSE = 44.04\n",
      "Iteration #880: W_new = [44.66260479  3.88501483], MSE = 44.04\n",
      "Iteration #890: W_new = [44.66264254  3.88500799], MSE = 44.04\n",
      "Iteration #900: W_new = [44.66267686  3.88500176], MSE = 44.04\n",
      "Iteration #910: W_new = [44.66270805  3.88499611], MSE = 44.04\n",
      "Iteration #920: W_new = [44.66273641  3.88499096], MSE = 44.04\n",
      "Iteration #930: W_new = [44.66276219  3.88498629], MSE = 44.04\n",
      "Iteration #940: W_new = [44.66278562  3.88498204], MSE = 44.04\n",
      "Iteration #950: W_new = [44.66280692  3.88497818], MSE = 44.04\n",
      "Iteration #960: W_new = [44.66282628  3.88497467], MSE = 44.04\n",
      "Iteration #970: W_new = [44.66284389  3.88497147], MSE = 44.04\n",
      "Iteration #980: W_new = [44.66285989  3.88496857], MSE = 44.04\n",
      "Iteration #990: W_new = [44.66287443  3.88496594], MSE = 44.04\n",
      "Iteration #1000: W_new = [44.66288766  3.88496354], MSE = 44.04\n",
      "Iteration #1010: W_new = [44.66289968  3.88496136], MSE = 44.04\n",
      "Iteration #1020: W_new = [44.6629106   3.88495938], MSE = 44.04\n",
      "Iteration #1030: W_new = [44.66292054  3.88495757], MSE = 44.04\n",
      "Iteration #1040: W_new = [44.66292957  3.88495594], MSE = 44.04\n",
      "Iteration #1050: W_new = [44.66293778  3.88495445], MSE = 44.04\n",
      "Iteration #1060: W_new = [44.66294524  3.88495309], MSE = 44.04\n",
      "Iteration #1070: W_new = [44.66295203  3.88495186], MSE = 44.04\n",
      "Iteration #1080: W_new = [44.66295819  3.88495075], MSE = 44.04\n",
      "Iteration #1090: W_new = [44.6629638   3.88494973], MSE = 44.04\n",
      "Iteration #1100: W_new = [44.6629689   3.88494881], MSE = 44.04\n",
      "Iteration #1110: W_new = [44.66297353  3.88494797], MSE = 44.04\n",
      "Iteration #1120: W_new = [44.66297774  3.8849472 ], MSE = 44.04\n",
      "Iteration #1130: W_new = [44.66298157  3.88494651], MSE = 44.04\n",
      "Iteration #1140: W_new = [44.66298505  3.88494588], MSE = 44.04\n",
      "Iteration #1150: W_new = [44.66298822  3.8849453 ], MSE = 44.04\n",
      "Iteration #1160: W_new = [44.6629911   3.88494478], MSE = 44.04\n",
      "Iteration #1170: W_new = [44.66299371  3.88494431], MSE = 44.04\n",
      "Iteration #1180: W_new = [44.66299609  3.88494387], MSE = 44.04\n",
      "Iteration #1190: W_new = [44.66299825  3.88494348], MSE = 44.04\n",
      "Iteration #1200: W_new = [44.66300022  3.88494313], MSE = 44.04\n",
      "Iteration #1210: W_new = [44.663002   3.8849428], MSE = 44.04\n",
      "Iteration #1220: W_new = [44.66300363  3.88494251], MSE = 44.04\n",
      "Iteration #1230: W_new = [44.6630051   3.88494224], MSE = 44.04\n",
      "Iteration #1240: W_new = [44.66300644  3.884942  ], MSE = 44.04\n",
      "Iteration #1250: W_new = [44.66300766  3.88494178], MSE = 44.04\n",
      "Iteration #1260: W_new = [44.66300877  3.88494157], MSE = 44.04\n",
      "Iteration #1270: W_new = [44.66300978  3.88494139], MSE = 44.04\n",
      "Iteration #1280: W_new = [44.6630107   3.88494123], MSE = 44.04\n",
      "Iteration #1290: W_new = [44.66301153  3.88494107], MSE = 44.04\n",
      "Iteration #1300: W_new = [44.66301229  3.88494094], MSE = 44.04\n",
      "Iteration #1310: W_new = [44.66301298  3.88494081], MSE = 44.04\n",
      "Iteration #1320: W_new = [44.6630136  3.8849407], MSE = 44.04\n",
      "Iteration #1330: W_new = [44.66301417  3.8849406 ], MSE = 44.04\n",
      "Iteration #1340: W_new = [44.66301469  3.8849405 ], MSE = 44.04\n",
      "Iteration #1350: W_new = [44.66301516  3.88494042], MSE = 44.04\n",
      "Iteration #1360: W_new = [44.66301559  3.88494034], MSE = 44.04\n",
      "Iteration #1370: W_new = [44.66301598  3.88494027], MSE = 44.04\n",
      "Iteration #1380: W_new = [44.66301633  3.8849402 ], MSE = 44.04\n",
      "Iteration #1390: W_new = [44.66301665  3.88494015], MSE = 44.04\n",
      "Iteration #1400: W_new = [44.66301694  3.88494009], MSE = 44.04\n",
      "Iteration #1410: W_new = [44.66301721  3.88494004], MSE = 44.04\n",
      "Iteration #1420: W_new = [44.66301745  3.88494   ], MSE = 44.04\n",
      "Iteration #1430: W_new = [44.66301767  3.88493996], MSE = 44.04\n",
      "Iteration #1440: W_new = [44.66301787  3.88493992], MSE = 44.04\n",
      "Iteration #1450: W_new = [44.66301805  3.88493989], MSE = 44.04\n",
      "Iteration #1460: W_new = [44.66301822  3.88493986], MSE = 44.04\n",
      "Iteration #1470: W_new = [44.66301837  3.88493984], MSE = 44.04\n",
      "Iteration #1480: W_new = [44.6630185   3.88493981], MSE = 44.04\n",
      "Iteration #1490: W_new = [44.66301863  3.88493979], MSE = 44.04\n"
     ]
    }
   ],
   "source": [
    "eta=1e-2 \n",
    "n_iter=1500\n",
    "\n",
    "xy1 = gradient_descent(eta=eta, n_iter=n_iter)"
   ]
  },
  {
   "cell_type": "markdown",
   "metadata": {},
   "source": [
    "__Подходящая скорость обучения: 1e-2 (при большей - расходится, а при меньшей - сходится очень медленно)__\n",
    "__При подстановке вручную оптимальным количеством будет 1500 итераций, так как при этом количестве векторы весов от шага к шагу изменяются незначительно__"
   ]
  },
  {
   "cell_type": "markdown",
   "metadata": {
    "colab_type": "text",
    "id": "5Qu1o4JhZYwI"
   },
   "source": [
    "### 2*. В этом коде мы избавляемся от итераций по весам, но тут есть ошибка, исправьте ее"
   ]
  },
  {
   "cell_type": "code",
   "execution_count": 161,
   "metadata": {},
   "outputs": [
    {
     "name": "stdout",
     "output_type": "stream",
     "text": [
      "Number of objects = 2        \n",
      "Learning rate = 0.01        \n",
      "Initial weights = [1.  0.5] \n",
      "\n",
      "Iteration #0: W_new = [ 6.4  19.35], MSE = 3047.75\n",
      "Iteration #10: W_new = [19.96966932  8.87179137], MSE = 379.6\n",
      "Iteration #20: W_new = [29.27719328  6.70531799], MSE = 172.93\n",
      "Iteration #30: W_new = [35.16120834  5.60976141], MSE = 94.66\n",
      "Iteration #40: W_new = [38.85365942  4.93848587], MSE = 63.9\n",
      "Iteration #50: W_new = [41.16920131  4.51849616], MSE = 51.81\n",
      "Iteration #60: W_new = [42.62118483  4.25519525], MSE = 47.05\n",
      "Iteration #70: W_new = [43.53165976  4.0900943 ], MSE = 45.18\n",
      "Iteration #80: W_new = [44.10257814  3.98656703], MSE = 44.45\n",
      "Iteration #90: W_new = [44.46057568  3.9216497 ], MSE = 44.16\n"
     ]
    }
   ],
   "source": [
    "n = X.shape[1]\n",
    "\n",
    "eta = 1e-2 \n",
    "n_iter = 100\n",
    "\n",
    "W = np.array([1, 0.5])\n",
    "print(f'Number of objects = {n} \\\n",
    "       \\nLearning rate = {eta} \\\n",
    "       \\nInitial weights = {W} \\n')\n",
    "\n",
    "for i in range(n_iter):\n",
    "    y_pred = np.dot(X, W)\n",
    "    err = calc_mse(y, y_pred)\n",
    "#     for k in range(W.shape[0]):\n",
    "#         W[k] -= eta * (1/n * 2 * X[:, k] @ (y_pred - y))\n",
    "    # ИЗМЕНЕНИЯ\n",
    "    W -= eta * (1/n * 2 * np.dot(X.T, y_pred - y)) #так как Х - это матрица, то для корректного перемножения её необходимо транспонировать\n",
    "    #\n",
    "    if i % 10 == 0:\n",
    "        print(f'Iteration #{i}: W_new = {W}, MSE = {round(err,2)}')"
   ]
  },
  {
   "cell_type": "markdown",
   "metadata": {},
   "source": [
    "### 3*. Вместо того, чтобы задавать количество итераций, задайте другое условие останова алгоритма - когда веса перестают изменяться меньше определенного порога $\\epsilon$."
   ]
  },
  {
   "cell_type": "code",
   "execution_count": 162,
   "metadata": {},
   "outputs": [
    {
     "name": "stdout",
     "output_type": "stream",
     "text": [
      "0 [ 6.4  19.35] 3047.75\n",
      "220 [45.06110517  3.81275293] 43.96875100598372\n"
     ]
    }
   ],
   "source": [
    "W = np.array([1, 0.5])\n",
    "eps = 1e-7\n",
    "err_prev = 0\n",
    "i = 0\n",
    "\n",
    "while True:\n",
    "    y_pred = np.dot(W, X.T)\n",
    "    err = calc_mse(y, y_pred)\n",
    "    W -= eta * (1/n * 2 * np.dot(X.T, y_pred - y))\n",
    "    \n",
    "    if i % 1000 == 0:\n",
    "        print(i, W, err)\n",
    "        \n",
    "    if abs(err_prev - err) <= eps:\n",
    "        print(i, W, err)\n",
    "        break\n",
    "    else:\n",
    "        err_prev = err\n",
    "        i += 1"
   ]
  }
 ],
 "metadata": {
  "colab": {
   "name": "Lesson_1.ipynb",
   "provenance": []
  },
  "kernelspec": {
   "display_name": "Python 3",
   "language": "python",
   "name": "python3"
  },
  "language_info": {
   "codemirror_mode": {
    "name": "ipython",
    "version": 3
   },
   "file_extension": ".py",
   "mimetype": "text/x-python",
   "name": "python",
   "nbconvert_exporter": "python",
   "pygments_lexer": "ipython3",
   "version": "3.9.1"
  }
 },
 "nbformat": 4,
 "nbformat_minor": 1
}
